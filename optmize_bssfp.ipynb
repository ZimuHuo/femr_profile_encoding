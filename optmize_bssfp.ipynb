{
 "cells": [
  {
   "cell_type": "code",
   "execution_count": 11,
   "id": "fa9b9907-f990-42f7-a2fa-133e827c76e5",
   "metadata": {},
   "outputs": [],
   "source": [
    "import sys\n",
    "sys.path.insert(1, '../')\n",
    "import numpy as np\n",
    "import matplotlib.pyplot as plt\n",
    "from util.coil import *\n",
    "from util.fft import *\n",
    "import util.simulator as simulate\n",
    "from util.jg import *\n",
    "from scipy.io import loadmat"
   ]
  },
  {
   "cell_type": "code",
   "execution_count": 12,
   "id": "c0ac331d-3a0b-43f2-889c-b011d748f431",
   "metadata": {},
   "outputs": [],
   "source": [
    "ssfp_data = loadmat(\"vivodata/meas_MID495_bSSFP_8PC_nograd_FID42735_image.mat\")[\"data\"] \n",
    "[ny,nx,ph, nc] = ssfp_data.shape\n",
    "\n",
    "D = np.reshape(ssfp_data, [ny * nx * ph, nc])\n",
    "U, S, Vt = np.linalg.svd(D, full_matrices=False)\n",
    "Nc = 6\n",
    "ssfp_data = np.dot(D, Vt.T[:, :Nc]).reshape(ny, nx, ph, Nc)"
   ]
  },
  {
   "cell_type": "code",
   "execution_count": 13,
   "id": "c3afa3ba-fb8e-4a87-946a-0f8608f049a7",
   "metadata": {},
   "outputs": [],
   "source": [
    "data1 = loadmat(\"vivodata/meas_MID504_FEMR_nograd_PC0_fa25_FID42744_image.mat\")[\"data\"]\n",
    "data2 = loadmat(\"vivodata/meas_MID505_FEMR_nograd_PC45_fa25_FID42745_image.mat\")[\"data\"]\n",
    "data3 = loadmat(\"vivodata/meas_MID506_FEMR_nograd_PC90_fa25_FID42746_image.mat\")[\"data\"]\n",
    "data4 = loadmat(\"vivodata/meas_MID507_FEMR_nograd_PC135_fa25_FID42747_image.mat\")[\"data\"]\n",
    "femr_data = np.concatenate([data1, data2, data3, data4], 2) \n",
    "[ny,nx,ph, nc] = femr_data.shape\n",
    "\n",
    "D = np.reshape(femr_data, [ny * nx * ph, nc])\n",
    "U, S, Vt = np.linalg.svd(D, full_matrices=False)\n",
    "Nc = 6\n",
    "femr_data = np.dot(D, Vt.T[:, :Nc]).reshape(ny, nx, ph, Nc)"
   ]
  },
  {
   "cell_type": "code",
   "execution_count": 14,
   "id": "c1f8112c-be46-4944-bda4-10576c80f8cd",
   "metadata": {},
   "outputs": [],
   "source": [
    "ssfp_image = ifft2c(ssfp_data)\n",
    "ssfp_image = ssfp_image  / normalization_factor(ssfp_image)\n",
    "ssfp_data = fft2c(ssfp_image)\n",
    "\n",
    "ssfp_truth = rsos(rsos(ssfp_image,-1),-1)\n",
    "\n",
    "[ny, nx, pc, nc] = ssfp_data.shape\n",
    "ssfp_acs = simulate.acs(ssfp_data, (32, 32))\n",
    "ssfp_dataR = np.zeros([ny, nx, pc, nc], dtype = complex)\n",
    "R = 4\n",
    "ssfp_dataR[::R] = ssfp_data[::R]"
   ]
  },
  {
   "cell_type": "code",
   "execution_count": 15,
   "id": "fe3ce757-b8d9-4e11-a6fb-7a7d78b4c3bd",
   "metadata": {},
   "outputs": [],
   "source": [
    "kh = [2, 4, 6]\n",
    "kw = [3, 5, 7, 9]\n",
    "error = np.zeros([3,4])\n",
    "for x,h in enumerate(kh):\n",
    "    for y,w in enumerate(kw): \n",
    "        ssfp_recon = joint_grappa(ssfp_dataR, ssfp_acs, kh = h, kw = w,lamda = 2e-11, R = R)\n",
    "        error[x,y] = (MSE(ssfp_truth,ssfp_recon))"
   ]
  },
  {
   "cell_type": "code",
   "execution_count": 16,
   "id": "9e629a7d-233b-42a0-85d4-8bab73f01927",
   "metadata": {},
   "outputs": [
    {
     "data": {
      "text/plain": [
       "(0, 1)"
      ]
     },
     "execution_count": 16,
     "metadata": {},
     "output_type": "execute_result"
    }
   ],
   "source": [
    "min_error_index = np.unravel_index(np.argmin(error), error.shape)\n",
    "min_error_index # kh = 2 kw = 5"
   ]
  },
  {
   "cell_type": "code",
   "execution_count": 17,
   "id": "47f4f2da-c5f4-45e0-94ab-ca6c6a9f7587",
   "metadata": {},
   "outputs": [],
   "source": [
    "lamda = np.logspace(-10,-12,20)\n",
    "error = []\n",
    "for r in lamda: \n",
    "    ssfp_recon = joint_grappa(ssfp_dataR, ssfp_acs, kh = 4, kw = 7,lamda = r, R = R)\n",
    "    error.append((MSE(ssfp_truth,ssfp_recon)))"
   ]
  },
  {
   "cell_type": "code",
   "execution_count": 18,
   "id": "5b93098c-06c4-47b7-9644-792bf7a2a192",
   "metadata": {},
   "outputs": [
    {
     "data": {
      "image/png": "[encoded data removed]",
      "text/plain": [
       "<Figure size 640x480 with 1 Axes>"
      ]
     },
     "metadata": {},
     "output_type": "display_data"
    }
   ],
   "source": [
    "plt.figure()\n",
    "plt.plot(lamda, error)\n",
    "plt.show()"
   ]
  },
  {
   "cell_type": "code",
   "execution_count": 19,
   "id": "d7899746-8af4-4c1f-b547-8aa082797a03",
   "metadata": {},
   "outputs": [
    {
     "data": {
      "text/plain": [
       "2.3357214690901212e-11"
      ]
     },
     "execution_count": 19,
     "metadata": {},
     "output_type": "execute_result"
    }
   ],
   "source": [
    "min_index = np.argmin(error)\n",
    "lamda[min_index]"
   ]
  }
 ],
 "metadata": {
  "kernelspec": {
   "display_name": "Python 3 (ipykernel)",
   "language": "python",
   "name": "python3"
  },
  "language_info": {
   "codemirror_mode": {
    "name": "ipython",
    "version": 3
   },
   "file_extension": ".py",
   "mimetype": "text/x-python",
   "name": "python",
   "nbconvert_exporter": "python",
   "pygments_lexer": "ipython3",
   "version": "3.10.9"
  }
 },
 "nbformat": 4,
 "nbformat_minor": 5
}
